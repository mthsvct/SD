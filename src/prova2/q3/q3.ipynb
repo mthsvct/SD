{
 "cells": [
  {
   "cell_type": "markdown",
   "metadata": {},
   "source": [
    "# Questão 03\n",
    "\n",
    "- Respostas da 2º Avaliação de SD - 2023 \n",
    "- Aluno: Matheus Victor Ferreira da Silva\n",
    "-  Qual a diferença entre Paralelismo e Concorrência? Podemos ter programas paralelos sem ser concorrentes? Demonstre em Python um exemplo de cada."
   ]
  },
  {
   "cell_type": "markdown",
   "metadata": {},
   "source": [
    "## Bibliotecas"
   ]
  },
  {
   "cell_type": "code",
   "execution_count": 1,
   "metadata": {},
   "outputs": [],
   "source": [
    "from threading import Thread\n",
    "from time import time, sleep\n",
    "import random\n",
    "from multiprocessing import Process, Value\n",
    "from time import time\n",
    "import pandas as pd\n",
    "import matplotlib.pyplot as plt"
   ]
  },
  {
   "cell_type": "markdown",
   "metadata": {},
   "source": [
    "## Paralelismo\n",
    "\n",
    "o paralelismo ocorre quando duas atividades ocorrem simultaneamente. Assim, em uma máquina que possui um processador multi-core, é possível que em algum momento mais de um processo esteja sendo executado ao mesmo tempo.\n",
    "\n",
    "No seguinte exemplo, é feito a busca de palavras em um arquivo de texto. Serão realizados testes com Threads e Process."
   ]
  },
  {
   "cell_type": "code",
   "execution_count": 2,
   "metadata": {},
   "outputs": [],
   "source": [
    "def buscaWithProcess(texto, palavra, result):\n",
    "    palavras = texto.split(' ')\n",
    "    count = 0\n",
    "    for p in palavras:\n",
    "        if p == palavra:\n",
    "            count += 1\n",
    "    \n",
    "    # A diferença é que o result.value é um objeto compartilhado entre os processos\n",
    "    with result.get_lock():\n",
    "        result.value += count"
   ]
  },
  {
   "cell_type": "code",
   "execution_count": 3,
   "metadata": {},
   "outputs": [],
   "source": [
    "def buscaWithThread(texto, palavra, result):\n",
    "    palavras = texto.split(' ')\n",
    "    count = 0\n",
    "    for p in palavras:\n",
    "        if p == palavra:\n",
    "            count += 1\n",
    "    \n",
    "    # Com Threads é possível compartilhar objetos, logo basta acessar o campo count do objeto result\n",
    "    result['count'] += count"
   ]
  },
  {
   "cell_type": "markdown",
   "metadata": {},
   "source": [
    "### Teste com Processos"
   ]
  },
  {
   "cell_type": "code",
   "execution_count": 4,
   "metadata": {},
   "outputs": [],
   "source": [
    "res = {'paralelismo': 0, 'concorrencia': 0}"
   ]
  },
  {
   "cell_type": "code",
   "execution_count": 5,
   "metadata": {},
   "outputs": [],
   "source": [
    "def testProcess():\n",
    "    with open('texto.txt', 'r') as file:\n",
    "        texto = file.read().lower()\n",
    "        plvs = [\"mas\", \"passado\", \"a\", \"poderia\", \"semana\", \"creio\", \"casa\", \"e\"]\n",
    "        resultados = [{'plv': x, 'count': Value('i', 0)} for x in plvs]\n",
    "\n",
    "        inicio = time()\n",
    "\n",
    "        processos = [Process(target=buscaWithProcess, args=(texto, r['plv'], r['count'])) for r in resultados]\n",
    "\n",
    "        for p in processos:\n",
    "            p.start()\n",
    "        \n",
    "        for p in processos:\n",
    "            p.join()\n",
    "\n",
    "        fim = time() - inicio\n",
    "\n",
    "        for r in resultados:\n",
    "            print(f\"A palavra \\\"{r['plv']}\\\" aparece {r['count'].value} vezes no texto\")\n",
    "        \n",
    "        print(f\"\\nTempo de execução usando paralelismo: {fim} segundos\")\n",
    "    return fim"
   ]
  },
  {
   "cell_type": "code",
   "execution_count": 6,
   "metadata": {},
   "outputs": [
    {
     "name": "stdout",
     "output_type": "stream",
     "text": [
      "A palavra \"mas\" aparece 468 vezes no texto\n",
      "A palavra \"passado\" aparece 5 vezes no texto\n",
      "A palavra \"a\" aparece 2182 vezes no texto\n",
      "A palavra \"poderia\" aparece 9 vezes no texto\n",
      "A palavra \"semana\" aparece 4 vezes no texto\n",
      "A palavra \"creio\" aparece 26 vezes no texto\n",
      "A palavra \"casa\" aparece 68 vezes no texto\n",
      "A palavra \"e\" aparece 1827 vezes no texto\n",
      "\n",
      "Tempo de execução usando paralelismo: 0.05919933319091797 segundos\n"
     ]
    }
   ],
   "source": [
    "res['paralelismo'] = testProcess()"
   ]
  },
  {
   "cell_type": "markdown",
   "metadata": {},
   "source": [
    "### Teste com Threads"
   ]
  },
  {
   "cell_type": "code",
   "execution_count": 7,
   "metadata": {},
   "outputs": [],
   "source": [
    "def testThread():\n",
    "    with open('texto.txt', 'r') as file:\n",
    "        texto = file.read().lower()\n",
    "        plvs = [\"mas\", \"passado\", \"a\", \"poderia\", \"semana\", \"creio\", \"casa\", \"e\"]\n",
    "        resultados = [{'plv': x, 'count': 0} for x in plvs]\n",
    "\n",
    "        inicio = time()\n",
    "\n",
    "        processos = [Thread(target=buscaWithThread, args=(texto, r['plv'], r)) for r in resultados]\n",
    "\n",
    "        for p in processos:\n",
    "            p.start()\n",
    "        \n",
    "        for p in processos:\n",
    "            p.join()\n",
    "\n",
    "        fim = time() - inicio\n",
    "\n",
    "        for r in resultados:\n",
    "           print(f\"A palavra \\\"{r['plv']}\\\" aparece {r['count']} vezes no texto\")\n",
    "        \n",
    "        print(f\"\\nTempo de execução usando concorrencia: {fim} segundos\")\n",
    "\n",
    "    return fim"
   ]
  },
  {
   "cell_type": "code",
   "execution_count": 8,
   "metadata": {},
   "outputs": [
    {
     "name": "stdout",
     "output_type": "stream",
     "text": [
      "A palavra \"mas\" aparece 468 vezes no texto\n",
      "A palavra \"passado\" aparece 5 vezes no texto\n",
      "A palavra \"a\" aparece 2182 vezes no texto\n",
      "A palavra \"poderia\" aparece 9 vezes no texto\n",
      "A palavra \"semana\" aparece 4 vezes no texto\n",
      "A palavra \"creio\" aparece 26 vezes no texto\n",
      "A palavra \"casa\" aparece 68 vezes no texto\n",
      "A palavra \"e\" aparece 1827 vezes no texto\n",
      "\n",
      "Tempo de execução usando concorrencia: 0.05530953407287598 segundos\n"
     ]
    }
   ],
   "source": [
    "res['concorrencia'] = testThread()"
   ]
  },
  {
   "cell_type": "code",
   "execution_count": 9,
   "metadata": {},
   "outputs": [
    {
     "data": {
      "image/png": "[encoded data removed]",
      "text/plain": [
       "<Figure size 432x288 with 1 Axes>"
      ]
     },
     "metadata": {
      "needs_background": "light"
     },
     "output_type": "display_data"
    }
   ],
   "source": [
    "# Fazer um gráfico de duas barras\n",
    "df = pd.DataFrame(res, index=['Tempo'])\n",
    "df.plot.bar(rot=0)\n",
    "plt.show()"
   ]
  },
  {
   "cell_type": "markdown",
   "metadata": {},
   "source": [
    "Para este exemplo, percebe-se que o tempo de execução foi menor com o uso de paralelismo com multiprocessamento. Isso porque, o multiprocessamento é indicado para tarefas que utilizam mais CPU e possívelmente não precise entrar em modo de espera."
   ]
  },
  {
   "cell_type": "markdown",
   "metadata": {},
   "source": [
    "## Concorrência\n",
    "\n",
    "A concorrência ocorre quando duas ou mais atividades são realizadas de forma alternada durante o mesmo intervalo de tempo. Com isso, ao iniciar vários processos em uma máquina com um único processador de núcleo único, o processador precisa alternar entre a execução dos processos iniciados, pois apenas um processo pode ser executado de cada vez.\n"
   ]
  },
  {
   "cell_type": "code",
   "execution_count": 10,
   "metadata": {},
   "outputs": [],
   "source": [
    "def busca444(texto, palavra, resultado, op=1):\n",
    "    \n",
    "    palavras = texto.split(' ')\n",
    "    count = 0\n",
    "    i = 0\n",
    "    block = False\n",
    "\n",
    "    inicio = time()\n",
    "    \n",
    "    while count < 444:\n",
    "        \n",
    "        if count % 100 == 0 and count != 0 and not block:\n",
    "            sleep(random.uniform(0.1, 1))\n",
    "            block = True\n",
    "        \n",
    "        if palavras[i] == palavra:\n",
    "            count += 1\n",
    "            block = False\n",
    "        \n",
    "        i += 1\n",
    "\n",
    "    if op == 1:\n",
    "        resultado['tempo'] = time() - inicio\n",
    "    else:\n",
    "        # A diferença é que o result.value é um objeto compartilhado entre os processos\n",
    "        with resultado['tempo'].get_lock():\n",
    "            resultado['tempo'].value = time() - inicio"
   ]
  },
  {
   "cell_type": "code",
   "execution_count": 11,
   "metadata": {},
   "outputs": [],
   "source": [
    "def test444Thread():\n",
    "    palavra = \"mas\"\n",
    "    with open('texto.txt', 'r') as file: texto = file.read().lower()\n",
    "    \n",
    "    tempo_total = time()\n",
    "    tempos = [{'thread': x, 'tempo': 0} for x in range(5)]\n",
    "    thrs = [Thread(target=busca444, args=(texto, palavra, x, 1), name=f\"T{x['thread']}\") for x in tempos]\n",
    "    \n",
    "    for t in thrs:\n",
    "        print(f\"Iniciando thread {t.name}\")\n",
    "        t.start()\n",
    "    for t in thrs:\n",
    "        t.join()\n",
    "    \n",
    "    tempo_total = time() - tempo_total\n",
    "\n",
    "    print(\"\\nTempo de execução de cada thread:\")\n",
    "    for t in tempos:\n",
    "        print(f\"Thread {t['thread']}: {t['tempo']} segundos\")\n",
    "    \n",
    "    print(\"\\nOrdem de término das threads:\")\n",
    "    for index, t in enumerate(sorted(tempos, key=lambda x: x['tempo'])):\n",
    "        print(f\"{index}º - Thread {t['thread']}\")\n",
    "\n",
    "    print(f\"\\nTempo de execução total: {tempo_total} segundos\")"
   ]
  },
  {
   "cell_type": "code",
   "execution_count": 12,
   "metadata": {},
   "outputs": [
    {
     "name": "stdout",
     "output_type": "stream",
     "text": [
      "Iniciando thread T0\n",
      "Iniciando thread T1\n",
      "Iniciando thread T2\n",
      "Iniciando thread T3\n",
      "Iniciando thread T4\n",
      "\n",
      "Tempo de execução de cada thread:\n",
      "Thread 0: 1.954538345336914 segundos\n",
      "Thread 1: 1.3043029308319092 segundos\n",
      "Thread 2: 3.0224010944366455 segundos\n",
      "Thread 3: 2.1309590339660645 segundos\n",
      "Thread 4: 3.1186022758483887 segundos\n",
      "\n",
      "Ordem de término das threads:\n",
      "0º - Thread 1\n",
      "1º - Thread 0\n",
      "2º - Thread 3\n",
      "3º - Thread 2\n",
      "4º - Thread 4\n",
      "\n",
      "Tempo de execução total: 3.1462347507476807 segundos\n"
     ]
    }
   ],
   "source": [
    "test444Thread()"
   ]
  },
  {
   "cell_type": "code",
   "execution_count": 13,
   "metadata": {},
   "outputs": [],
   "source": [
    "def test444Process():\n",
    "    palavra = \"mas\"\n",
    "    with open('texto.txt', 'r') as file: texto = file.read().lower()\n",
    "    \n",
    "    tempo_total = time()\n",
    "    tempos = [{'thread': x, 'tempo': Value('f', 0.)} for x in range(5)]\n",
    "    thrs = [Process(target=busca444, args=(texto, palavra, x, 2), name=f\"P{x['thread']}\") for x in tempos]\n",
    "    \n",
    "    for t in thrs:\n",
    "        print(f\"Iniciando thread {t.name}\")\n",
    "        t.start()\n",
    "    for t in thrs:\n",
    "        t.join()\n",
    "    \n",
    "    tempo_total = time() - tempo_total\n",
    "\n",
    "    print(\"\\nTempo de execução de cada thread:\")\n",
    "    for t in tempos:\n",
    "        print(f\"Thread {t['thread']}: {t['tempo']} segundos\")\n",
    "    \n",
    "    # print(\"\\nOrdem de término das threads:\")\n",
    "    # for index, t in enumerate(sorted(tempos, key=lambda x: x['tempo'])):\n",
    "    #     print(f\"{index}º - Thread {t['thread']}\")\n",
    "\n",
    "    print(f\"\\nTempo de execução total: {tempo_total} segundos\")"
   ]
  },
  {
   "cell_type": "code",
   "execution_count": 14,
   "metadata": {},
   "outputs": [
    {
     "name": "stdout",
     "output_type": "stream",
     "text": [
      "Iniciando thread P0\n",
      "Iniciando thread P1\n",
      "Iniciando thread P2\n",
      "Iniciando thread P3\n",
      "Iniciando thread P4\n"
     ]
    },
    {
     "name": "stdout",
     "output_type": "stream",
     "text": [
      "\n",
      "Tempo de execução de cada thread:\n",
      "Thread 0: <Synchronized wrapper for c_float(2.0354580879211426)> segundos\n",
      "Thread 1: <Synchronized wrapper for c_float(3.0621283054351807)> segundos\n",
      "Thread 2: <Synchronized wrapper for c_float(2.198303461074829)> segundos\n",
      "Thread 3: <Synchronized wrapper for c_float(0.8555929660797119)> segundos\n",
      "Thread 4: <Synchronized wrapper for c_float(2.69472074508667)> segundos\n",
      "\n",
      "Tempo de execução total: 3.0892856121063232 segundos\n"
     ]
    }
   ],
   "source": [
    "test444Process()"
   ]
  }
 ],
 "metadata": {
  "kernelspec": {
   "display_name": "Python 3",
   "language": "python",
   "name": "python3"
  },
  "language_info": {
   "codemirror_mode": {
    "name": "ipython",
    "version": 3
   },
   "file_extension": ".py",
   "mimetype": "text/x-python",
   "name": "python",
   "nbconvert_exporter": "python",
   "pygments_lexer": "ipython3",
   "version": "3.8.10"
  },
  "orig_nbformat": 4
 },
 "nbformat": 4,
 "nbformat_minor": 2
}
