{
 "cells": [
  {
   "cell_type": "code",
   "execution_count": 1,
   "metadata": {},
   "outputs": [],
   "source": [
    "from random import randint\n",
    "from threading import Thread\n",
    "from time import sleep, time\n",
    "from multiprocessing import Process, Array\n",
    "import numpy as np\n",
    "import pandas as pd\n",
    "import matplotlib.pyplot as plt"
   ]
  },
  {
   "cell_type": "code",
   "execution_count": 2,
   "metadata": {},
   "outputs": [],
   "source": [
    "criaMatriz = lambda n, z=False: [[0 if z else randint(0, 99) for _ in range(n)] for _ in range(n)]"
   ]
  },
  {
   "cell_type": "code",
   "execution_count": 3,
   "metadata": {},
   "outputs": [],
   "source": [
    "n = 2 # Tamanho das matrizes"
   ]
  },
  {
   "cell_type": "code",
   "execution_count": 4,
   "metadata": {},
   "outputs": [],
   "source": [
    "m1, m2 = criaMatriz(n), criaMatriz(n)"
   ]
  },
  {
   "cell_type": "code",
   "execution_count": 5,
   "metadata": {},
   "outputs": [
    {
     "data": {
      "text/plain": [
       "[[9, 44], [58, 98]]"
      ]
     },
     "execution_count": 5,
     "metadata": {},
     "output_type": "execute_result"
    }
   ],
   "source": [
    "m1"
   ]
  },
  {
   "cell_type": "code",
   "execution_count": 6,
   "metadata": {},
   "outputs": [
    {
     "data": {
      "text/plain": [
       "[[62, 74], [19, 33]]"
      ]
     },
     "execution_count": 6,
     "metadata": {},
     "output_type": "execute_result"
    }
   ],
   "source": [
    "m2"
   ]
  },
  {
   "cell_type": "code",
   "execution_count": 7,
   "metadata": {},
   "outputs": [],
   "source": [
    "def linha(m1, m2, l, resultante):\n",
    "    for i in range(len(m2)):\n",
    "        for j in range(len(m2)):\n",
    "            resultante[l][i] += m1[l][j] * m2[j][i]"
   ]
  },
  {
   "cell_type": "code",
   "execution_count": 8,
   "metadata": {},
   "outputs": [],
   "source": [
    "def linhaFile(m1, m2, l, resultante):\n",
    "    for i in range(len(m2)):\n",
    "        for j in range(len(m2)):\n",
    "            resultante[l][i] += m1[l][j] * m2[j][i]\n",
    "    with open('tFile.txt', 'w') as f:\n",
    "        pass\n",
    "    t = time()\n",
    "    with open('resultante.txt', 'a') as f:\n",
    "        f.write(f'{resultante[l]}\\n')\n",
    "    tempo = time() - t\n",
    "    with open('tFile.txt', 'a') as f:\n",
    "        f.write(f'{tempo}\\n')"
   ]
  },
  {
   "cell_type": "code",
   "execution_count": 9,
   "metadata": {},
   "outputs": [],
   "source": [
    "def multThrd(m1, m2, n):\n",
    "    resultante = criaMatriz(n, z=True)\n",
    "    lista = [Thread(target=linha, args=(m1, m2, i, resultante)) for i in range(n)]\n",
    "    for t in lista:\n",
    "        t.start()\n",
    "    for t in lista:\n",
    "        t.join()    \n",
    "    return resultante"
   ]
  },
  {
   "cell_type": "code",
   "execution_count": 10,
   "metadata": {},
   "outputs": [],
   "source": [
    "def multProcss(m1, m2, n):\n",
    "    with open('resultante.txt', 'w') as f:\n",
    "        resultante = criaMatriz(n, z=True)\n",
    "        lista = [Process(target=linhaFile, args=(m1, m2, i, resultante)) for i in range(n)]\n",
    "        for t in lista:\n",
    "            t.start()\n",
    "        for t in lista:\n",
    "            t.join()\n",
    "\n",
    "    with open('resultante.txt', 'r') as f:\n",
    "        resultante = [list(map(int, line.strip('[]\\n').split(', '))) for line in f.readlines()]\n",
    "\n",
    "    return resultante"
   ]
  },
  {
   "cell_type": "code",
   "execution_count": 11,
   "metadata": {},
   "outputs": [
    {
     "data": {
      "text/plain": [
       "[[1394, 2118], [5458, 7526]]"
      ]
     },
     "execution_count": 11,
     "metadata": {},
     "output_type": "execute_result"
    }
   ],
   "source": [
    "aux2 = multProcss(m1, m2, n)\n",
    "aux2"
   ]
  },
  {
   "cell_type": "code",
   "execution_count": 12,
   "metadata": {},
   "outputs": [
    {
     "name": "stdout",
     "output_type": "stream",
     "text": [
      "Tempo de execução: 0.001352071762084961\n",
      "[[1394, 2118], [5458, 7526]]\n"
     ]
    }
   ],
   "source": [
    "t = time()\n",
    "aux = multThrd(m1, m2, n)\n",
    "print(f\"Tempo de execução: {time() - t}\")\n",
    "print(aux)"
   ]
  },
  {
   "cell_type": "code",
   "execution_count": 13,
   "metadata": {},
   "outputs": [],
   "source": [
    "sel = lambda op, m1, m2, n: multThrd(m1, m2, n) if op == 1 else multProcss(m1, m2, n)\n",
    "selFile = lambda op: 'threads.csv' if op == 1 else 'processos.csv'"
   ]
  },
  {
   "cell_type": "code",
   "execution_count": 14,
   "metadata": {},
   "outputs": [],
   "source": [
    "def calcula(op, t):\n",
    "    tempo = time() - t\n",
    "    if op != 1:\n",
    "        with open('tFile.txt', 'r') as f:\n",
    "            tempo -= sum([float(line.strip('\\n')) for line in f.readlines()])\n",
    "    return tempo"
   ]
  },
  {
   "cell_type": "code",
   "execution_count": 15,
   "metadata": {},
   "outputs": [],
   "source": [
    "def marcaTempo(m1, m2, n, op):\n",
    "    t = time()\n",
    "    _ = sel(op, m1, m2, n)\n",
    "    with open(selFile(op), 'a') as f:\n",
    "        f.write(f'{n},{calcula(op, t)}\\n')"
   ]
  },
  {
   "cell_type": "code",
   "execution_count": 16,
   "metadata": {},
   "outputs": [],
   "source": [
    "def testes(max=50):\n",
    "    # Zero os arquivos para os testes\n",
    "    with open('threads.csv', 'w') as f: pass\n",
    "    with open('processos.csv', 'w') as f: pass\n",
    "    for n in range(2, max+1):\n",
    "        m1, m2 = criaMatriz(n), criaMatriz(n)\n",
    "        marcaTempo(m1, m2, n, 1)\n",
    "        marcaTempo(m1, m2, n, 2)"
   ]
  },
  {
   "cell_type": "code",
   "execution_count": 17,
   "metadata": {},
   "outputs": [],
   "source": [
    "testes()"
   ]
  },
  {
   "cell_type": "code",
   "execution_count": 18,
   "metadata": {},
   "outputs": [],
   "source": [
    "df = pd.read_csv('threads.csv', names=['n', 'tempo'])\n",
    "df2 = pd.read_csv('processos.csv', names=['n', 'tempo'])\n"
   ]
  },
  {
   "cell_type": "code",
   "execution_count": 19,
   "metadata": {},
   "outputs": [
    {
     "data": {
      "text/plain": [
       "0.1793313026428222"
      ]
     },
     "execution_count": 19,
     "metadata": {},
     "output_type": "execute_result"
    }
   ],
   "source": [
    "df2['tempo'].max()"
   ]
  },
  {
   "cell_type": "code",
   "execution_count": 20,
   "metadata": {},
   "outputs": [
    {
     "data": {
      "image/png": "[encoded data removed]",
      "text/plain": [
       "<Figure size 432x288 with 1 Axes>"
      ]
     },
     "metadata": {
      "needs_background": "light"
     },
     "output_type": "display_data"
    }
   ],
   "source": [
    "plt.plot(df['n'], df['tempo'], label='Threads')\n",
    "plt.plot(df2['n'], df2['tempo'], label='Processos')\n",
    "plt.legend()\n",
    "plt.show()\n"
   ]
  }
 ],
 "metadata": {
  "kernelspec": {
   "display_name": "Python 3",
   "language": "python",
   "name": "python3"
  },
  "language_info": {
   "codemirror_mode": {
    "name": "ipython",
    "version": 3
   },
   "file_extension": ".py",
   "mimetype": "text/x-python",
   "name": "python",
   "nbconvert_exporter": "python",
   "pygments_lexer": "ipython3",
   "version": "3.8.10"
  },
  "orig_nbformat": 4
 },
 "nbformat": 4,
 "nbformat_minor": 2
}
