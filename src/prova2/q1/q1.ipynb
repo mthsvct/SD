{
 "cells": [
  {
   "cell_type": "markdown",
   "metadata": {},
   "source": [
    "# Questão 01\n",
    "\n",
    "- Respostas da 2º Avaliação de SD - 2023 <br>\n",
    "- Aluno: Matheus Victor Ferreira da Silva <br>\n",
    "- Anunciado: Quais as diferenças entre MultiThread e MultiProcess? Faça um código em Python para multiplicar duas matrizes quadradas usando MultiThreads e MultiProcess. Altere os tamanho das matrizes de forma a mostrar o desempenho das duas abordagens. Ilustre o desempenho com um gráfico. O desempenho de cada uma pode ser mensurado pelo tempo para calcular a multiplicação."
   ]
  },
  {
   "cell_type": "markdown",
   "metadata": {},
   "source": [
    "## Bibliotecas"
   ]
  },
  {
   "cell_type": "code",
   "execution_count": 1,
   "metadata": {},
   "outputs": [],
   "source": [
    "from random import randint\n",
    "from threading import Thread\n",
    "from time import time\n",
    "from multiprocessing import Process\n",
    "import pandas as pd\n",
    "import matplotlib.pyplot as plt"
   ]
  },
  {
   "cell_type": "markdown",
   "metadata": {},
   "source": [
    "## Função de Criar Matrizes"
   ]
  },
  {
   "cell_type": "code",
   "execution_count": 2,
   "metadata": {},
   "outputs": [],
   "source": [
    "criaMatriz = lambda n, z=False: [[0 if z else randint(0, 99) for _ in range(n)] for _ in range(n)]"
   ]
  },
  {
   "cell_type": "markdown",
   "metadata": {},
   "source": [
    "## Função de Multiplicar Matrizes"
   ]
  },
  {
   "cell_type": "code",
   "execution_count": 3,
   "metadata": {},
   "outputs": [],
   "source": [
    "def linha(m1, m2, l, resultante):\n",
    "    for i in range(len(m2)):\n",
    "        for j in range(len(m2)):\n",
    "            resultante[l][i] += m1[l][j] * m2[j][i]"
   ]
  },
  {
   "cell_type": "code",
   "execution_count": 4,
   "metadata": {},
   "outputs": [],
   "source": [
    "def linhaFile(m1, m2, l, resultante):\n",
    "    for i in range(len(m2)):\n",
    "        for j in range(len(m2)):\n",
    "            resultante[l][i] += m1[l][j] * m2[j][i]\n",
    "            \n",
    "    with open('tFile.txt', 'w') as f: # Zerar o arquivo para armazenar o tempo de cada processo.\n",
    "        pass\n",
    "\n",
    "    t = time()\n",
    "\n",
    "    with open('resultante.txt', 'a') as f:\n",
    "        f.write(f'{resultante[l]}\\n')\n",
    "    \n",
    "    tempo = time() - t\n",
    "    \n",
    "    with open('tFile.txt', 'a') as f:\n",
    "        f.write(f'{tempo}\\n')"
   ]
  },
  {
   "cell_type": "markdown",
   "metadata": {},
   "source": [
    "## Funções que chamam as funções de calcular linhas\n",
    "\n",
    "A função multThrd cria uma thread para cada linha da matriz resultante, e cada thread chama a função multLinha, que calcula a linha da matriz resultante.\n",
    "\n",
    "Da mesma forma, a função multProc cria um processo para cada linha da matriz resultante, e cada processo chama a função multLinha, que calcula a linha da matriz resultante. Como os processos não compartilham memória, eu não consegui pensar uma outra forma de calcular as linhas sem ser armazenando em um arquivo de texto e lendo depois. O arquivo \"resultante.txt\" armazena a matriz resultante com processos."
   ]
  },
  {
   "cell_type": "code",
   "execution_count": 5,
   "metadata": {},
   "outputs": [],
   "source": [
    "def multThrd(m1, m2, n):\n",
    "    resultante = criaMatriz(n, z=True)\n",
    "    lista = [Thread(target=linha, args=(m1, m2, i, resultante)) for i in range(n)]\n",
    "    for t in lista:\n",
    "        t.start()\n",
    "    for t in lista:\n",
    "        t.join()    \n",
    "    return resultante"
   ]
  },
  {
   "cell_type": "code",
   "execution_count": 6,
   "metadata": {},
   "outputs": [],
   "source": [
    "def multProcss(m1, m2, n):\n",
    "    with open('resultante.txt', 'w') as f:\n",
    "        resultante = criaMatriz(n, z=True)\n",
    "        lista = [Process(target=linhaFile, args=(m1, m2, i, resultante)) for i in range(n)]\n",
    "        for t in lista:\n",
    "            t.start()\n",
    "        for t in lista:\n",
    "            t.join()\n",
    "\n",
    "    with open('resultante.txt', 'r') as f:\n",
    "        resultante = [list(map(int, line.strip('[]\\n').split(', '))) for line in f.readlines()]\n",
    "\n",
    "    return resultante"
   ]
  },
  {
   "cell_type": "markdown",
   "metadata": {},
   "source": [
    "## Um teste"
   ]
  },
  {
   "cell_type": "code",
   "execution_count": 7,
   "metadata": {},
   "outputs": [],
   "source": [
    "n = 2 # Tamanho das matrizes"
   ]
  },
  {
   "cell_type": "code",
   "execution_count": 8,
   "metadata": {},
   "outputs": [],
   "source": [
    "m1, m2 = criaMatriz(n), criaMatriz(n) # São criadas duas matrizes aleatórias com tamanho 2x2"
   ]
  },
  {
   "cell_type": "code",
   "execution_count": 9,
   "metadata": {},
   "outputs": [
    {
     "data": {
      "text/plain": [
       "([[19, 35], [11, 3]], [[39, 60], [62, 21]])"
      ]
     },
     "execution_count": 9,
     "metadata": {},
     "output_type": "execute_result"
    }
   ],
   "source": [
    "m1, m2 "
   ]
  },
  {
   "cell_type": "code",
   "execution_count": 27,
   "metadata": {},
   "outputs": [
    {
     "data": {
      "text/plain": [
       "[[2911, 1875], [615, 723]]"
      ]
     },
     "execution_count": 27,
     "metadata": {},
     "output_type": "execute_result"
    }
   ],
   "source": [
    "aux2 = multProcss(m1, m2, n)\n",
    "aux2"
   ]
  },
  {
   "cell_type": "code",
   "execution_count": 12,
   "metadata": {},
   "outputs": [
    {
     "name": "stdout",
     "output_type": "stream",
     "text": [
      "Tempo de execução: 0.0007653236389160156\n",
      "[[2911, 1875], [615, 723]]\n"
     ]
    }
   ],
   "source": [
    "t = time()\n",
    "aux = multThrd(m1, m2, n)\n",
    "print(f\"Tempo de execução: {time() - t}\")\n",
    "print(aux)"
   ]
  },
  {
   "cell_type": "markdown",
   "metadata": {},
   "source": [
    "## Testes com diferentes tamanhos de matrizes\n",
    "\n",
    "A função sel direciona as variáveis para as funções de multiplicação de matrizes de acordo com a opção determinada, se op for 1 então a multiplicação será realizada com threads, se op for 2 então a multiplicação será realizada com processos.\n",
    "\n",
    "Os testes foram realizados com matrizes de tamanhos diferentes, começando com o tamanho 2x2 até a matriz de tamanho 50x50."
   ]
  },
  {
   "cell_type": "code",
   "execution_count": 13,
   "metadata": {},
   "outputs": [],
   "source": [
    "sel = lambda op, m1, m2, n: multThrd(m1, m2, n) if op == 1 else multProcss(m1, m2, n)\n",
    "selFile = lambda op: 'threads.csv' if op == 1 else 'processos.csv'"
   ]
  },
  {
   "cell_type": "code",
   "execution_count": 14,
   "metadata": {},
   "outputs": [],
   "source": [
    "def calcula(op, t):\n",
    "    tempo = time() - t\n",
    "    if op != 1:\n",
    "        with open('tFile.txt', 'r') as f:\n",
    "            tempo -= sum([float(line.strip('\\n')) for line in f.readlines()])\n",
    "    return tempo"
   ]
  },
  {
   "cell_type": "code",
   "execution_count": 15,
   "metadata": {},
   "outputs": [],
   "source": [
    "def marcaTempo(m1, m2, n, op):\n",
    "    t = time()\n",
    "    _ = sel(op, m1, m2, n)\n",
    "    with open(selFile(op), 'a') as f:\n",
    "        f.write(f'{n},{calcula(op, t)}\\n')"
   ]
  },
  {
   "cell_type": "code",
   "execution_count": 16,
   "metadata": {},
   "outputs": [],
   "source": [
    "def testes(max=50):\n",
    "    # Zero os arquivos para os testes\n",
    "    with open('threads.csv', 'w') as f: pass\n",
    "    with open('processos.csv', 'w') as f: pass\n",
    "    for n in range(2, max+1):\n",
    "        m1, m2 = criaMatriz(n), criaMatriz(n)\n",
    "        marcaTempo(m1, m2, n, 1)\n",
    "        marcaTempo(m1, m2, n, 2)"
   ]
  },
  {
   "cell_type": "code",
   "execution_count": 17,
   "metadata": {},
   "outputs": [],
   "source": [
    "testes() # Executa os testes"
   ]
  },
  {
   "cell_type": "markdown",
   "metadata": {},
   "source": [
    "## Resultados"
   ]
  },
  {
   "cell_type": "code",
   "execution_count": 18,
   "metadata": {},
   "outputs": [],
   "source": [
    "df = pd.read_csv('threads.csv', names=['n', 'tempo'])\n",
    "df2 = pd.read_csv('processos.csv', names=['n', 'tempo'])"
   ]
  },
  {
   "cell_type": "code",
   "execution_count": 33,
   "metadata": {},
   "outputs": [
    {
     "data": {
      "text/html": [
       "<div>\n",
       "<style scoped>\n",
       "    .dataframe tbody tr th:only-of-type {\n",
       "        vertical-align: middle;\n",
       "    }\n",
       "\n",
       "    .dataframe tbody tr th {\n",
       "        vertical-align: top;\n",
       "    }\n",
       "\n",
       "    .dataframe thead th {\n",
       "        text-align: right;\n",
       "    }\n",
       "</style>\n",
       "<table border=\"1\" class=\"dataframe\">\n",
       "  <thead>\n",
       "    <tr style=\"text-align: right;\">\n",
       "      <th></th>\n",
       "      <th>n</th>\n",
       "      <th>tempo</th>\n",
       "    </tr>\n",
       "  </thead>\n",
       "  <tbody>\n",
       "    <tr>\n",
       "      <th>0</th>\n",
       "      <td>2</td>\n",
       "      <td>0.000303</td>\n",
       "    </tr>\n",
       "    <tr>\n",
       "      <th>1</th>\n",
       "      <td>3</td>\n",
       "      <td>0.000598</td>\n",
       "    </tr>\n",
       "    <tr>\n",
       "      <th>2</th>\n",
       "      <td>4</td>\n",
       "      <td>0.000438</td>\n",
       "    </tr>\n",
       "    <tr>\n",
       "      <th>3</th>\n",
       "      <td>5</td>\n",
       "      <td>0.000682</td>\n",
       "    </tr>\n",
       "    <tr>\n",
       "      <th>4</th>\n",
       "      <td>6</td>\n",
       "      <td>0.000563</td>\n",
       "    </tr>\n",
       "  </tbody>\n",
       "</table>\n",
       "</div>"
      ],
      "text/plain": [
       "   n     tempo\n",
       "0  2  0.000303\n",
       "1  3  0.000598\n",
       "2  4  0.000438\n",
       "3  5  0.000682\n",
       "4  6  0.000563"
      ]
     },
     "execution_count": 33,
     "metadata": {},
     "output_type": "execute_result"
    }
   ],
   "source": [
    "df.head() # Threads"
   ]
  },
  {
   "cell_type": "code",
   "execution_count": 34,
   "metadata": {},
   "outputs": [
    {
     "data": {
      "text/html": [
       "<div>\n",
       "<style scoped>\n",
       "    .dataframe tbody tr th:only-of-type {\n",
       "        vertical-align: middle;\n",
       "    }\n",
       "\n",
       "    .dataframe tbody tr th {\n",
       "        vertical-align: top;\n",
       "    }\n",
       "\n",
       "    .dataframe thead th {\n",
       "        text-align: right;\n",
       "    }\n",
       "</style>\n",
       "<table border=\"1\" class=\"dataframe\">\n",
       "  <thead>\n",
       "    <tr style=\"text-align: right;\">\n",
       "      <th></th>\n",
       "      <th>n</th>\n",
       "      <th>tempo</th>\n",
       "    </tr>\n",
       "  </thead>\n",
       "  <tbody>\n",
       "    <tr>\n",
       "      <th>0</th>\n",
       "      <td>2</td>\n",
       "      <td>0.013807</td>\n",
       "    </tr>\n",
       "    <tr>\n",
       "      <th>1</th>\n",
       "      <td>3</td>\n",
       "      <td>0.017600</td>\n",
       "    </tr>\n",
       "    <tr>\n",
       "      <th>2</th>\n",
       "      <td>4</td>\n",
       "      <td>0.022007</td>\n",
       "    </tr>\n",
       "    <tr>\n",
       "      <th>3</th>\n",
       "      <td>5</td>\n",
       "      <td>0.027557</td>\n",
       "    </tr>\n",
       "    <tr>\n",
       "      <th>4</th>\n",
       "      <td>6</td>\n",
       "      <td>0.027173</td>\n",
       "    </tr>\n",
       "  </tbody>\n",
       "</table>\n",
       "</div>"
      ],
      "text/plain": [
       "   n     tempo\n",
       "0  2  0.013807\n",
       "1  3  0.017600\n",
       "2  4  0.022007\n",
       "3  5  0.027557\n",
       "4  6  0.027173"
      ]
     },
     "execution_count": 34,
     "metadata": {},
     "output_type": "execute_result"
    }
   ],
   "source": [
    "df2.head() # Processos"
   ]
  },
  {
   "cell_type": "code",
   "execution_count": 31,
   "metadata": {},
   "outputs": [
    {
     "data": {
      "text/plain": [
       "('Tempo máximo com multi-threads: 0.0395028591156005',\n",
       " 'Tempo máximo com multi-processos: 0.1935420036315918')"
      ]
     },
     "execution_count": 31,
     "metadata": {},
     "output_type": "execute_result"
    }
   ],
   "source": [
    "f\"Tempo máximo com multi-threads: {df['tempo'].max()}\", f\"Tempo máximo com multi-processos: {df2['tempo'].max()}\""
   ]
  },
  {
   "cell_type": "code",
   "execution_count": 20,
   "metadata": {},
   "outputs": [
    {
     "data": {
      "image/png": "[encoded data removed]",
      "text/plain": [
       "<Figure size 432x288 with 1 Axes>"
      ]
     },
     "metadata": {
      "needs_background": "light"
     },
     "output_type": "display_data"
    }
   ],
   "source": [
    "plt.plot(df['n'], df['tempo'], label='Threads')\n",
    "plt.plot(df2['n'], df2['tempo'], label='Processos')\n",
    "plt.legend()\n",
    "plt.show()\n"
   ]
  },
  {
   "cell_type": "markdown",
   "metadata": {},
   "source": [
    "## Infos\n",
    "\n",
    "*multiprocessing* envolve a criação de processos independentes que executam em paralelo. Cada processo tem seu próprio espaço de memória, o que significa que a comunicação entre os processos pode ser mais custosa em termos de desempenho, pois requer compartilhamento de dados entre processos separados. No programa, foi optado pela a criação de um arquivo de texto para armazenar a matriz resultante, pois os processos não compartilham memória. Isso pode ser a causa do tempo elevado de execução do programa com processos em comparação aos resultados obtidos com threads.\n",
    "\n"
   ]
  }
 ],
 "metadata": {
  "kernelspec": {
   "display_name": "Python 3",
   "language": "python",
   "name": "python3"
  },
  "language_info": {
   "codemirror_mode": {
    "name": "ipython",
    "version": 3
   },
   "file_extension": ".py",
   "mimetype": "text/x-python",
   "name": "python",
   "nbconvert_exporter": "python",
   "pygments_lexer": "ipython3",
   "version": "3.8.10"
  },
  "orig_nbformat": 4
 },
 "nbformat": 4,
 "nbformat_minor": 2
}
